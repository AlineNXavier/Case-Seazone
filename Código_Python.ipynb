{
 "cells": [
  {
   "cell_type": "markdown",
   "metadata": {},
   "source": [
    "# Desafio Seazone - Data Science"
   ]
  },
  {
   "cell_type": "markdown",
   "metadata": {},
   "source": [
    "### 1. Importando as bibliotecas\n"
   ]
  },
  {
   "cell_type": "code",
   "execution_count": 328,
   "metadata": {},
   "outputs": [],
   "source": [
    "import pandas as pd\n",
    "import numpy as np\n",
    "import seaborn as sns\n",
    "import matplotlib.pyplot as plt\n"
   ]
  },
  {
   "cell_type": "markdown",
   "metadata": {},
   "source": [
    "### 2. Importando o Excel com as planilhas"
   ]
  },
  {
   "cell_type": "code",
   "execution_count": 329,
   "metadata": {},
   "outputs": [],
   "source": [
    "# Lendo o Excel\n",
    "df = pd.ExcelFile('price-info.xlsm')\n",
    "\n",
    "# Lendo as planilhas\n",
    "df_fat = pd.read_excel(df, 'Calculo')\n",
    "df_dia = pd.read_excel(df, 'Dias')"
   ]
  },
  {
   "cell_type": "markdown",
   "metadata": {},
   "source": [
    "### 3. Ajustando as colunas"
   ]
  },
  {
   "cell_type": "code",
   "execution_count": 330,
   "metadata": {},
   "outputs": [],
   "source": [
    "# Definindo o nome das colunas para o dataset dos faturamentos mensais\n",
    "df_fat.columns = [\"Id\",\"Jan20\",\"Dez19\",\"Nov19\",\"Out19\",\"Set19\",\"Ago19\"]\n",
    "\n",
    "# Definindo a coluna ID como índice\n",
    "df_fat.set_index(\"Id\", inplace=True)\n",
    "\n",
    "# Definindo o nome das colunas para o dataset dos diárias mensais\n",
    "df_dia.columns = [\"Id\",\"Jan20\",\"Dez19\",\"Nov19\",\"Out19\",\"Set19\",\"Ago19\"]\n",
    "\n",
    "# Definindo a coluna ID como índice\n",
    "df_dia.set_index(\"Id\", inplace=True)"
   ]
  },
  {
   "cell_type": "markdown",
   "metadata": {},
   "source": [
    "### 4. Explorando "
   ]
  },
  {
   "cell_type": "code",
   "execution_count": 331,
   "metadata": {},
   "outputs": [
    {
     "data": {
      "text/plain": [
       "(499, 6)"
      ]
     },
     "execution_count": 331,
     "metadata": {},
     "output_type": "execute_result"
    }
   ],
   "source": [
    "# Verificando o tamanho da base\n",
    "df_fat.shape"
   ]
  },
  {
   "cell_type": "markdown",
   "metadata": {},
   "source": [
    "#### Verificando as distribuições para cada dataset"
   ]
  },
  {
   "cell_type": "code",
   "execution_count": 332,
   "metadata": {},
   "outputs": [
    {
     "data": {
      "text/html": [
       "<div>\n",
       "<style scoped>\n",
       "    .dataframe tbody tr th:only-of-type {\n",
       "        vertical-align: middle;\n",
       "    }\n",
       "\n",
       "    .dataframe tbody tr th {\n",
       "        vertical-align: top;\n",
       "    }\n",
       "\n",
       "    .dataframe thead th {\n",
       "        text-align: right;\n",
       "    }\n",
       "</style>\n",
       "<table border=\"1\" class=\"dataframe\">\n",
       "  <thead>\n",
       "    <tr style=\"text-align: right;\">\n",
       "      <th></th>\n",
       "      <th>Jan20</th>\n",
       "      <th>Dez19</th>\n",
       "      <th>Nov19</th>\n",
       "      <th>Out19</th>\n",
       "      <th>Set19</th>\n",
       "      <th>Ago19</th>\n",
       "    </tr>\n",
       "  </thead>\n",
       "  <tbody>\n",
       "    <tr>\n",
       "      <th>count</th>\n",
       "      <td>398.000000</td>\n",
       "      <td>432.000000</td>\n",
       "      <td>317.000000</td>\n",
       "      <td>186.000000</td>\n",
       "      <td>248.000000</td>\n",
       "      <td>236.000000</td>\n",
       "    </tr>\n",
       "    <tr>\n",
       "      <th>mean</th>\n",
       "      <td>10619.417085</td>\n",
       "      <td>7378.687500</td>\n",
       "      <td>4966.309148</td>\n",
       "      <td>6628.822581</td>\n",
       "      <td>2736.544355</td>\n",
       "      <td>3408.474576</td>\n",
       "    </tr>\n",
       "    <tr>\n",
       "      <th>std</th>\n",
       "      <td>12987.857117</td>\n",
       "      <td>11007.204649</td>\n",
       "      <td>10216.372417</td>\n",
       "      <td>13642.069098</td>\n",
       "      <td>5043.182361</td>\n",
       "      <td>6732.874587</td>\n",
       "    </tr>\n",
       "    <tr>\n",
       "      <th>min</th>\n",
       "      <td>80.000000</td>\n",
       "      <td>100.000000</td>\n",
       "      <td>75.000000</td>\n",
       "      <td>41.000000</td>\n",
       "      <td>0.000000</td>\n",
       "      <td>0.000000</td>\n",
       "    </tr>\n",
       "    <tr>\n",
       "      <th>25%</th>\n",
       "      <td>3870.750000</td>\n",
       "      <td>2260.250000</td>\n",
       "      <td>1074.000000</td>\n",
       "      <td>1192.500000</td>\n",
       "      <td>600.000000</td>\n",
       "      <td>684.000000</td>\n",
       "    </tr>\n",
       "    <tr>\n",
       "      <th>50%</th>\n",
       "      <td>7540.500000</td>\n",
       "      <td>4660.500000</td>\n",
       "      <td>2446.000000</td>\n",
       "      <td>2759.500000</td>\n",
       "      <td>1453.500000</td>\n",
       "      <td>1713.000000</td>\n",
       "    </tr>\n",
       "    <tr>\n",
       "      <th>75%</th>\n",
       "      <td>12693.500000</td>\n",
       "      <td>8362.500000</td>\n",
       "      <td>5720.000000</td>\n",
       "      <td>6327.500000</td>\n",
       "      <td>3000.000000</td>\n",
       "      <td>3700.000000</td>\n",
       "    </tr>\n",
       "    <tr>\n",
       "      <th>max</th>\n",
       "      <td>155000.000000</td>\n",
       "      <td>155000.000000</td>\n",
       "      <td>145000.000000</td>\n",
       "      <td>150000.000000</td>\n",
       "      <td>55000.000000</td>\n",
       "      <td>85000.000000</td>\n",
       "    </tr>\n",
       "  </tbody>\n",
       "</table>\n",
       "</div>"
      ],
      "text/plain": [
       "               Jan20          Dez19          Nov19          Out19  \\\n",
       "count     398.000000     432.000000     317.000000     186.000000   \n",
       "mean    10619.417085    7378.687500    4966.309148    6628.822581   \n",
       "std     12987.857117   11007.204649   10216.372417   13642.069098   \n",
       "min        80.000000     100.000000      75.000000      41.000000   \n",
       "25%      3870.750000    2260.250000    1074.000000    1192.500000   \n",
       "50%      7540.500000    4660.500000    2446.000000    2759.500000   \n",
       "75%     12693.500000    8362.500000    5720.000000    6327.500000   \n",
       "max    155000.000000  155000.000000  145000.000000  150000.000000   \n",
       "\n",
       "              Set19         Ago19  \n",
       "count    248.000000    236.000000  \n",
       "mean    2736.544355   3408.474576  \n",
       "std     5043.182361   6732.874587  \n",
       "min        0.000000      0.000000  \n",
       "25%      600.000000    684.000000  \n",
       "50%     1453.500000   1713.000000  \n",
       "75%     3000.000000   3700.000000  \n",
       "max    55000.000000  85000.000000  "
      ]
     },
     "execution_count": 332,
     "metadata": {},
     "output_type": "execute_result"
    }
   ],
   "source": [
    "df_fat.describe()"
   ]
  },
  {
   "cell_type": "code",
   "execution_count": 333,
   "metadata": {},
   "outputs": [
    {
     "data": {
      "text/html": [
       "<div>\n",
       "<style scoped>\n",
       "    .dataframe tbody tr th:only-of-type {\n",
       "        vertical-align: middle;\n",
       "    }\n",
       "\n",
       "    .dataframe tbody tr th {\n",
       "        vertical-align: top;\n",
       "    }\n",
       "\n",
       "    .dataframe thead th {\n",
       "        text-align: right;\n",
       "    }\n",
       "</style>\n",
       "<table border=\"1\" class=\"dataframe\">\n",
       "  <thead>\n",
       "    <tr style=\"text-align: right;\">\n",
       "      <th></th>\n",
       "      <th>Jan20</th>\n",
       "      <th>Dez19</th>\n",
       "      <th>Nov19</th>\n",
       "      <th>Out19</th>\n",
       "      <th>Set19</th>\n",
       "      <th>Ago19</th>\n",
       "    </tr>\n",
       "  </thead>\n",
       "  <tbody>\n",
       "    <tr>\n",
       "      <th>count</th>\n",
       "      <td>398.000000</td>\n",
       "      <td>432.000000</td>\n",
       "      <td>317.000000</td>\n",
       "      <td>186.000000</td>\n",
       "      <td>248.000000</td>\n",
       "      <td>236.000000</td>\n",
       "    </tr>\n",
       "    <tr>\n",
       "      <th>mean</th>\n",
       "      <td>21.193467</td>\n",
       "      <td>15.696759</td>\n",
       "      <td>14.564669</td>\n",
       "      <td>18.876344</td>\n",
       "      <td>9.830645</td>\n",
       "      <td>11.241525</td>\n",
       "    </tr>\n",
       "    <tr>\n",
       "      <th>std</th>\n",
       "      <td>9.505679</td>\n",
       "      <td>8.258199</td>\n",
       "      <td>9.309367</td>\n",
       "      <td>11.245217</td>\n",
       "      <td>8.101803</td>\n",
       "      <td>7.292442</td>\n",
       "    </tr>\n",
       "    <tr>\n",
       "      <th>min</th>\n",
       "      <td>1.000000</td>\n",
       "      <td>1.000000</td>\n",
       "      <td>1.000000</td>\n",
       "      <td>1.000000</td>\n",
       "      <td>1.000000</td>\n",
       "      <td>1.000000</td>\n",
       "    </tr>\n",
       "    <tr>\n",
       "      <th>25%</th>\n",
       "      <td>13.250000</td>\n",
       "      <td>9.000000</td>\n",
       "      <td>6.000000</td>\n",
       "      <td>7.000000</td>\n",
       "      <td>3.000000</td>\n",
       "      <td>5.000000</td>\n",
       "    </tr>\n",
       "    <tr>\n",
       "      <th>50%</th>\n",
       "      <td>24.500000</td>\n",
       "      <td>15.000000</td>\n",
       "      <td>14.000000</td>\n",
       "      <td>21.000000</td>\n",
       "      <td>6.000000</td>\n",
       "      <td>13.000000</td>\n",
       "    </tr>\n",
       "    <tr>\n",
       "      <th>75%</th>\n",
       "      <td>30.000000</td>\n",
       "      <td>22.000000</td>\n",
       "      <td>23.000000</td>\n",
       "      <td>30.000000</td>\n",
       "      <td>16.000000</td>\n",
       "      <td>15.000000</td>\n",
       "    </tr>\n",
       "    <tr>\n",
       "      <th>max</th>\n",
       "      <td>31.000000</td>\n",
       "      <td>31.000000</td>\n",
       "      <td>30.000000</td>\n",
       "      <td>31.000000</td>\n",
       "      <td>30.000000</td>\n",
       "      <td>31.000000</td>\n",
       "    </tr>\n",
       "  </tbody>\n",
       "</table>\n",
       "</div>"
      ],
      "text/plain": [
       "            Jan20       Dez19       Nov19       Out19       Set19       Ago19\n",
       "count  398.000000  432.000000  317.000000  186.000000  248.000000  236.000000\n",
       "mean    21.193467   15.696759   14.564669   18.876344    9.830645   11.241525\n",
       "std      9.505679    8.258199    9.309367   11.245217    8.101803    7.292442\n",
       "min      1.000000    1.000000    1.000000    1.000000    1.000000    1.000000\n",
       "25%     13.250000    9.000000    6.000000    7.000000    3.000000    5.000000\n",
       "50%     24.500000   15.000000   14.000000   21.000000    6.000000   13.000000\n",
       "75%     30.000000   22.000000   23.000000   30.000000   16.000000   15.000000\n",
       "max     31.000000   31.000000   30.000000   31.000000   30.000000   31.000000"
      ]
     },
     "execution_count": 333,
     "metadata": {},
     "output_type": "execute_result"
    }
   ],
   "source": [
    "df_dia.describe()"
   ]
  },
  {
   "cell_type": "code",
   "execution_count": 334,
   "metadata": {},
   "outputs": [
    {
     "data": {
      "text/plain": [
       "<matplotlib.axes._subplots.AxesSubplot at 0x27218a851c0>"
      ]
     },
     "execution_count": 334,
     "metadata": {},
     "output_type": "execute_result"
    },
    {
     "data": {
      "image/png": "[encoded data removed]",
      "text/plain": [
       "<Figure size 1440x576 with 1 Axes>"
      ]
     },
     "metadata": {
      "needs_background": "light"
     },
     "output_type": "display_data"
    }
   ],
   "source": [
    "plt.figure(figsize=(20,8))\n",
    "sns.boxplot(x=\"variable\", y=\"value\", data=pd.melt(df_fat))\n"
   ]
  },
  {
   "cell_type": "code",
   "execution_count": 335,
   "metadata": {},
   "outputs": [
    {
     "data": {
      "text/plain": [
       "<matplotlib.axes._subplots.AxesSubplot at 0x2721621a100>"
      ]
     },
     "execution_count": 335,
     "metadata": {},
     "output_type": "execute_result"
    },
    {
     "data": {
      "image/png": "[encoded data removed]",
      "text/plain": [
       "<Figure size 1440x576 with 1 Axes>"
      ]
     },
     "metadata": {
      "needs_background": "light"
     },
     "output_type": "display_data"
    }
   ],
   "source": [
    "plt.figure(figsize=(20,8))\n",
    "sns.boxplot(x=\"variable\", y=\"value\", data=pd.melt(df_dia))"
   ]
  },
  {
   "cell_type": "code",
   "execution_count": 336,
   "metadata": {},
   "outputs": [
    {
     "data": {
      "text/plain": [
       "Jan20    101\n",
       "Dez19     67\n",
       "Nov19    182\n",
       "Out19    313\n",
       "Set19    251\n",
       "Ago19    263\n",
       "dtype: int64"
      ]
     },
     "execution_count": 336,
     "metadata": {},
     "output_type": "execute_result"
    }
   ],
   "source": [
    "# Verificando o total de dados missing para cada coluna do dataset faturamento\n",
    "df_fat.isna().sum()"
   ]
  },
  {
   "cell_type": "code",
   "execution_count": 337,
   "metadata": {},
   "outputs": [
    {
     "data": {
      "text/plain": [
       "Jan20    101\n",
       "Dez19     67\n",
       "Nov19    182\n",
       "Out19    313\n",
       "Set19    251\n",
       "Ago19    263\n",
       "dtype: int64"
      ]
     },
     "execution_count": 337,
     "metadata": {},
     "output_type": "execute_result"
    }
   ],
   "source": [
    "# Verificando o total de dados missing para cada coluna do dataset diário\n",
    "df_dia.isna().sum()"
   ]
  },
  {
   "cell_type": "markdown",
   "metadata": {},
   "source": [
    "#### Como ambos os datasets possuem missing iremos preencher esses valores por zero"
   ]
  },
  {
   "cell_type": "markdown",
   "metadata": {},
   "source": [
    "Não considerar os valores nulos no nosso cálculo faz com que a média dos meses aumente, sendo que o imóvel ficou desocupado e é uma informação relevante para a análise."
   ]
  },
  {
   "cell_type": "code",
   "execution_count": 355,
   "metadata": {},
   "outputs": [],
   "source": [
    "#Preenchendo os missings com zero\n",
    "\n",
    "df_fat.fillna(0, inplace = True)\n",
    "df_dia.fillna(0, inplace = True)"
   ]
  },
  {
   "cell_type": "markdown",
   "metadata": {},
   "source": [
    "## Análise"
   ]
  },
  {
   "cell_type": "markdown",
   "metadata": {},
   "source": [
    "Criando uma coluna com o faturamento total de cada ID"
   ]
  },
  {
   "cell_type": "code",
   "execution_count": 356,
   "metadata": {},
   "outputs": [],
   "source": [
    "df_fat[\"Faturamento\"] = df_fat.sum(axis=1)"
   ]
  },
  {
   "cell_type": "markdown",
   "metadata": {},
   "source": [
    "#### - O ID que teve o maior faturamento"
   ]
  },
  {
   "cell_type": "code",
   "execution_count": 357,
   "metadata": {},
   "outputs": [
    {
     "data": {
      "text/plain": [
       "83547"
      ]
     },
     "execution_count": 357,
     "metadata": {},
     "output_type": "execute_result"
    }
   ],
   "source": [
    "max_fat = df_fat['Faturamento'].idxmax()\n",
    "max_fat"
   ]
  },
  {
   "cell_type": "code",
   "execution_count": 358,
   "metadata": {},
   "outputs": [
    {
     "data": {
      "text/html": [
       "<div>\n",
       "<style scoped>\n",
       "    .dataframe tbody tr th:only-of-type {\n",
       "        vertical-align: middle;\n",
       "    }\n",
       "\n",
       "    .dataframe tbody tr th {\n",
       "        vertical-align: top;\n",
       "    }\n",
       "\n",
       "    .dataframe thead th {\n",
       "        text-align: right;\n",
       "    }\n",
       "</style>\n",
       "<table border=\"1\" class=\"dataframe\">\n",
       "  <thead>\n",
       "    <tr style=\"text-align: right;\">\n",
       "      <th></th>\n",
       "      <th>Jan20</th>\n",
       "      <th>Dez19</th>\n",
       "      <th>Nov19</th>\n",
       "      <th>Out19</th>\n",
       "      <th>Set19</th>\n",
       "      <th>Ago19</th>\n",
       "      <th>Faturamento</th>\n",
       "    </tr>\n",
       "    <tr>\n",
       "      <th>Id</th>\n",
       "      <th></th>\n",
       "      <th></th>\n",
       "      <th></th>\n",
       "      <th></th>\n",
       "      <th></th>\n",
       "      <th></th>\n",
       "      <th></th>\n",
       "    </tr>\n",
       "  </thead>\n",
       "  <tbody>\n",
       "    <tr>\n",
       "      <th>83547</th>\n",
       "      <td>155000.0</td>\n",
       "      <td>155000.0</td>\n",
       "      <td>145000.0</td>\n",
       "      <td>150000.0</td>\n",
       "      <td>55000.0</td>\n",
       "      <td>85000.0</td>\n",
       "      <td>1490000.0</td>\n",
       "    </tr>\n",
       "  </tbody>\n",
       "</table>\n",
       "</div>"
      ],
      "text/plain": [
       "          Jan20     Dez19     Nov19     Out19    Set19    Ago19  Faturamento\n",
       "Id                                                                          \n",
       "83547  155000.0  155000.0  145000.0  150000.0  55000.0  85000.0    1490000.0"
      ]
     },
     "execution_count": 358,
     "metadata": {},
     "output_type": "execute_result"
    }
   ],
   "source": [
    "# Visualizando as informações desse ID\n",
    "df_fat[df_fat.index == max_fat]"
   ]
  },
  {
   "cell_type": "markdown",
   "metadata": {},
   "source": [
    "#### - O ID que teve o menor faturamento"
   ]
  },
  {
   "cell_type": "code",
   "execution_count": 359,
   "metadata": {},
   "outputs": [
    {
     "data": {
      "text/plain": [
       "33092756"
      ]
     },
     "execution_count": 359,
     "metadata": {},
     "output_type": "execute_result"
    }
   ],
   "source": [
    "min_fat = df_fat[df_fat['Faturamento'] > 0.0]['Faturamento'].idxmin()\n",
    "min_fat"
   ]
  },
  {
   "cell_type": "code",
   "execution_count": 360,
   "metadata": {},
   "outputs": [
    {
     "data": {
      "text/html": [
       "<div>\n",
       "<style scoped>\n",
       "    .dataframe tbody tr th:only-of-type {\n",
       "        vertical-align: middle;\n",
       "    }\n",
       "\n",
       "    .dataframe tbody tr th {\n",
       "        vertical-align: top;\n",
       "    }\n",
       "\n",
       "    .dataframe thead th {\n",
       "        text-align: right;\n",
       "    }\n",
       "</style>\n",
       "<table border=\"1\" class=\"dataframe\">\n",
       "  <thead>\n",
       "    <tr style=\"text-align: right;\">\n",
       "      <th></th>\n",
       "      <th>Jan20</th>\n",
       "      <th>Dez19</th>\n",
       "      <th>Nov19</th>\n",
       "      <th>Out19</th>\n",
       "      <th>Set19</th>\n",
       "      <th>Ago19</th>\n",
       "      <th>Faturamento</th>\n",
       "    </tr>\n",
       "    <tr>\n",
       "      <th>Id</th>\n",
       "      <th></th>\n",
       "      <th></th>\n",
       "      <th></th>\n",
       "      <th></th>\n",
       "      <th></th>\n",
       "      <th></th>\n",
       "      <th></th>\n",
       "    </tr>\n",
       "  </thead>\n",
       "  <tbody>\n",
       "    <tr>\n",
       "      <th>33092756</th>\n",
       "      <td>0.0</td>\n",
       "      <td>0.0</td>\n",
       "      <td>0.0</td>\n",
       "      <td>0.0</td>\n",
       "      <td>45.0</td>\n",
       "      <td>0.0</td>\n",
       "      <td>90.0</td>\n",
       "    </tr>\n",
       "  </tbody>\n",
       "</table>\n",
       "</div>"
      ],
      "text/plain": [
       "          Jan20  Dez19  Nov19  Out19  Set19  Ago19  Faturamento\n",
       "Id                                                             \n",
       "33092756    0.0    0.0    0.0    0.0   45.0    0.0         90.0"
      ]
     },
     "execution_count": 360,
     "metadata": {},
     "output_type": "execute_result"
    }
   ],
   "source": [
    "# Visualizando as informações desse ID\n",
    "df_fat[df_fat.index == min_fat]"
   ]
  },
  {
   "cell_type": "markdown",
   "metadata": {},
   "source": [
    " A escolha pelo menor faturamento maior que zero ocorreu porquê há muitos ids com renda zero."
   ]
  },
  {
   "cell_type": "code",
   "execution_count": 361,
   "metadata": {},
   "outputs": [
    {
     "name": "stdout",
     "output_type": "stream",
     "text": [
      "Número de IDs com faturamento zero:  34\n",
      "São eles : \n",
      " \n",
      " Int64Index([   96939,   122504,   130736,   291437,   693457,   748321,\n",
      "              780550,   942411,   982402,  1564315,  2083416,  2103758,\n",
      "             2223263,  4293449,  4330674,  4511690,  4587329, 10363087,\n",
      "            10366668, 10367722, 16251833, 16294535, 16298244, 16323237,\n",
      "            16331050, 16333503, 16333649, 16849257, 16851036, 16897092,\n",
      "            31242632, 32982749, 32991670, 32994399],\n",
      "           dtype='int64', name='Id')\n"
     ]
    }
   ],
   "source": [
    "print( \"Número de IDs com faturamento zero: \",df_fat[df_fat['Faturamento'] == 0]['Faturamento'].count())\n",
    "print( \"São eles : \\n \\n\", df_fat[df_fat['Faturamento'] == 0].index)"
   ]
  },
  {
   "cell_type": "markdown",
   "metadata": {},
   "source": [
    "#### - A média de faturamento dos IDs"
   ]
  },
  {
   "cell_type": "code",
   "execution_count": 362,
   "metadata": {},
   "outputs": [
    {
     "name": "stdout",
     "output_type": "stream",
     "text": [
      "Faturamento médio:  46911.683366733465\n"
     ]
    }
   ],
   "source": [
    "print(\"Faturamento médio: \", df_fat.Faturamento.mean())"
   ]
  },
  {
   "cell_type": "markdown",
   "metadata": {},
   "source": [
    "#### - Qual mês apresentou o maior (e o menor) faturamento médio"
   ]
  },
  {
   "cell_type": "code",
   "execution_count": 363,
   "metadata": {},
   "outputs": [
    {
     "name": "stdout",
     "output_type": "stream",
     "text": [
      "Lista dos faturamentos médios mensais:\n",
      " \n",
      " Jan20    8469.995992\n",
      "Dez19    6387.961924\n",
      "Nov19    3154.949900\n",
      "Out19    2470.863727\n",
      "Set19    1360.046092\n",
      "Ago19    1612.024048\n",
      "dtype: float64\n"
     ]
    }
   ],
   "source": [
    "print(\"Lista dos faturamentos médios mensais:\\n \\n\", df_fat.mean()[0:6])"
   ]
  },
  {
   "cell_type": "code",
   "execution_count": 364,
   "metadata": {},
   "outputs": [
    {
     "name": "stdout",
     "output_type": "stream",
     "text": [
      "Mês com maior faturamento:  Jan20\n"
     ]
    }
   ],
   "source": [
    "print(\"Mês com maior faturamento: \", df_fat.mean()[0:6].idxmax())"
   ]
  },
  {
   "cell_type": "code",
   "execution_count": 365,
   "metadata": {},
   "outputs": [
    {
     "name": "stdout",
     "output_type": "stream",
     "text": [
      "Mês com menor faturamento:  Set19\n"
     ]
    }
   ],
   "source": [
    "print(\"Mês com menor faturamento: \", df_fat.mean()[0:6].idxmin())"
   ]
  },
  {
   "cell_type": "code",
   "execution_count": 366,
   "metadata": {},
   "outputs": [
    {
     "data": {
      "text/plain": [
       "Text(0.5, 1.0, 'Aluguel médio por mês')"
      ]
     },
     "execution_count": 366,
     "metadata": {},
     "output_type": "execute_result"
    },
    {
     "data": {
      "image/png": "[encoded data removed]",
      "text/plain": [
       "<Figure size 432x288 with 1 Axes>"
      ]
     },
     "metadata": {
      "needs_background": "light"
     },
     "output_type": "display_data"
    }
   ],
   "source": [
    "#Visualizando \n",
    "\n",
    "sns.barplot(df_fat.mean()[0:6].index, df_fat.mean()[0:6])\n",
    "plt.ylabel(\"Valor Médio\")\n",
    "plt.title('Aluguel médio por mês')"
   ]
  },
  {
   "cell_type": "markdown",
   "metadata": {},
   "source": [
    "#### - Qual a média de taxa de ocupação para Janeiro? e para Outubro?"
   ]
  },
  {
   "cell_type": "code",
   "execution_count": 367,
   "metadata": {},
   "outputs": [
    {
     "name": "stdout",
     "output_type": "stream",
     "text": [
      "Lista das diárias médias mensais:\n",
      " \n",
      " Jan20    16.903808\n",
      "Dez19    13.589178\n",
      "Nov19     9.252505\n",
      "Out19     7.036072\n",
      "Set19     4.885772\n",
      "Ago19     5.316633\n",
      "dtype: float64\n"
     ]
    }
   ],
   "source": [
    "print(\"Lista das diárias médias mensais:\\n \\n\", df_dia.mean())"
   ]
  },
  {
   "cell_type": "code",
   "execution_count": 368,
   "metadata": {},
   "outputs": [
    {
     "name": "stdout",
     "output_type": "stream",
     "text": [
      "Taxa média de ocupação para Janeiro de 2020:  16.903807615230463\n"
     ]
    }
   ],
   "source": [
    "print( \"Taxa média de ocupação para Janeiro de 2020: \", df_dia.mean()[ df_dia.mean().index == \"Jan20\"][0])"
   ]
  },
  {
   "cell_type": "code",
   "execution_count": 369,
   "metadata": {},
   "outputs": [
    {
     "name": "stdout",
     "output_type": "stream",
     "text": [
      "Taxa média de ocupação para Out19 de 2019:  4.885771543086173\n"
     ]
    }
   ],
   "source": [
    "print( \"Taxa média de ocupação para Out19 de 2019: \", df_dia.mean()[ df_dia.mean().index == \"Set19\"][0])"
   ]
  },
  {
   "cell_type": "code",
   "execution_count": 370,
   "metadata": {},
   "outputs": [
    {
     "data": {
      "text/plain": [
       "Text(0.5, 1.0, 'Ocupação média por mês')"
      ]
     },
     "execution_count": 370,
     "metadata": {},
     "output_type": "execute_result"
    },
    {
     "data": {
      "image/png": "[encoded data removed]",
      "text/plain": [
       "<Figure size 432x288 with 1 Axes>"
      ]
     },
     "metadata": {
      "needs_background": "light"
     },
     "output_type": "display_data"
    }
   ],
   "source": [
    "#Visualizando \n",
    "\n",
    "sns.barplot(df_dia.mean()[0:6].index, df_dia.mean()[0:6])\n",
    "plt.ylabel(\"Valor Médio\")\n",
    "plt.title('Ocupação média por mês')"
   ]
  },
  {
   "cell_type": "markdown",
   "metadata": {},
   "source": [
    "## Sugestões"
   ]
  },
  {
   "cell_type": "markdown",
   "metadata": {},
   "source": [
    "Podemos concluir a partir das análises acima que:\n",
    "- Nos meses de alta temporada (Jan e Dez) temos um maior faturamento assim como um taxa de ocupação maior do que os outros meses.\n",
    "- Os valores dos alugueis não apresentam apenas uma faixa de valor, possuindo muitos valores extremamentes altos (outliers) que fazem com que a média dos alugueis no mês suba.\n",
    "    \n",
    "    \n",
    "##### Previsão do Faturamento\n",
    "- Podemos dizer que após os meses da alta temporada o volume de alugueis diminuir, consequêntemente o faturamento. Mas existe uma tendência de que os alugueis tenham o mesmo comportamento dos meses de baixa temporada.\n",
    "- Caso obtivessemos o faturamento de um periódo mais longo (de alguns anos) poderia ser utilizado um modelo de series temporais para prever o faturamento.\n",
    "\n",
    "\n",
    "##### Precificação\n",
    "- Ápos algumas análises é possivel ver que os alugueis mais altos possuem uma taxa de ocupação muito alta em Dezembro e Janeiro, poderia se adotar uma estrátegia para aproveitar essa alta demanda e aumentar o aluguel.\n",
    "- Por outro lado os algueis mais baixos na baixa temporada possuem uma baixa procura, poderia se adotar uma estratégia promocial nesses casos.\n",
    "- A precificação poderia ser feita atrávez de uma taxa de procura baseado no mesmo período anterior, no caso o ano anterior.\n",
    "    "
   ]
  }
 ],
 "metadata": {
  "kernelspec": {
   "display_name": "Python 3",
   "language": "python",
   "name": "python3"
  },
  "language_info": {
   "codemirror_mode": {
    "name": "ipython",
    "version": 3
   },
   "file_extension": ".py",
   "mimetype": "text/x-python",
   "name": "python",
   "nbconvert_exporter": "python",
   "pygments_lexer": "ipython3",
   "version": "3.8.1"
  }
 },
 "nbformat": 4,
 "nbformat_minor": 4
}
